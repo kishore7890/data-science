{
 "cells": [
  {
   "cell_type": "markdown",
   "id": "578e0b2a-4d11-457d-98df-d6a8bed72067",
   "metadata": {
    "tags": []
   },
   "source": [
    "python basi variables"
   ]
  },
  {
   "cell_type": "code",
   "execution_count": null,
   "id": "e01f1788-dbec-47cb-8346-8bdf2271d5bc",
   "metadata": {},
   "outputs": [],
   "source": [
    "#1. Declare two variables, `x` and `y`, and assign them integer values. Swap the\n",
    "values of these variables without using any temporary variable."
   ]
  },
  {
   "cell_type": "code",
   "execution_count": 25,
   "id": "739c4f0b-641c-4a13-95ff-a5f1059bc56b",
   "metadata": {},
   "outputs": [
    {
     "name": "stdout",
     "output_type": "stream",
     "text": [
      "2\n"
     ]
    }
   ],
   "source": [
    "x=1\n",
    "y=2\n",
    "x=y;\n",
    "print (x);\n",
    "\n"
   ]
  },
  {
   "cell_type": "code",
   "execution_count": null,
   "id": "3dca45eb-5bff-4ecd-a3e3-a96b3934eeb6",
   "metadata": {},
   "outputs": [],
   "source": [
    "#2. Create a program that calculates the area of a rectangle. Take the length and\n",
    "width as inputs from the user and store them in variables. Calculate and\n",
    "display the area."
   ]
  },
  {
   "cell_type": "code",
   "execution_count": 12,
   "id": "4b99da8c-c832-46dc-b5b3-de92164daf57",
   "metadata": {},
   "outputs": [
    {
     "name": "stdout",
     "output_type": "stream",
     "text": [
      "6\n"
     ]
    }
   ],
   "source": [
    "l=2\n",
    "b=3\n",
    "a=l*b;\n",
    "print(a);"
   ]
  },
  {
   "cell_type": "code",
   "execution_count": null,
   "id": "66cc6f0d-213c-484a-8125-64ae395d0a87",
   "metadata": {},
   "outputs": [],
   "source": [
    "#3. Write a Python program that converts temperatures from Celsius to\n",
    "Fahrenheit. Take the temperature in Celsius as input, store it in a variable,\n",
    "convert it to Fahrenheit, and display the result."
   ]
  },
  {
   "cell_type": "code",
   "execution_count": 13,
   "id": "4562f4d4-5355-44b7-8f02-2cf5e8443e0e",
   "metadata": {},
   "outputs": [
    {
     "name": "stdout",
     "output_type": "stream",
     "text": [
      "53.6\n"
     ]
    }
   ],
   "source": [
    "c=12\n",
    "f=9/5*c+32;\n",
    "print(f);"
   ]
  },
  {
   "cell_type": "markdown",
   "id": "60c9db0b-cea8-4d20-a42a-628d681b8238",
   "metadata": {},
   "source": [
    "String Based Questions\n"
   ]
  },
  {
   "cell_type": "code",
   "execution_count": null,
   "id": "64c4e23a-1cb5-4b88-b70c-022700d9b500",
   "metadata": {},
   "outputs": [],
   "source": [
    "#1. Write a Python program that takes a string as input and prints the length of\n",
    "the string."
   ]
  },
  {
   "cell_type": "code",
   "execution_count": 15,
   "id": "6c6925a3-e6a6-4db1-bc39-0072b1576f0c",
   "metadata": {},
   "outputs": [
    {
     "name": "stdout",
     "output_type": "stream",
     "text": [
      "7\n"
     ]
    }
   ],
   "source": [
    "s=\"program\";\n",
    "p=len(s);\n",
    "print(p);"
   ]
  },
  {
   "cell_type": "code",
   "execution_count": null,
   "id": "c83e5a3f-f2f1-4543-9ee3-fc52fb99a8e2",
   "metadata": {},
   "outputs": [],
   "source": [
    "#2. Create a program that takes a sentence from the user and counts the number\n",
    "of vowels (a, e, i, o, u) in the string."
   ]
  },
  {
   "cell_type": "code",
   "execution_count": 28,
   "id": "dbc52a93-c8da-41ee-95bd-c74d03ecc562",
   "metadata": {},
   "outputs": [
    {
     "name": "stdout",
     "output_type": "stream",
     "text": [
      "8\n"
     ]
    }
   ],
   "source": [
    "s='full stack data science pro';\n",
    "v=0;\n",
    "for i in s:\n",
    "    if(i=='a'or i=='e'or i=='i'or i=='o'or i=='u'or i=='A'or i=='E'or i=='I'or i=='O'or i=='U'):\n",
    "        v=v+1\n",
    "print(v);\n",
    "\n"
   ]
  },
  {
   "cell_type": "code",
   "execution_count": null,
   "id": "df82e5bc-db1c-4ea1-8530-ec79ec6bc1e0",
   "metadata": {},
   "outputs": [],
   "source": [
    "#3. Given a string, reverse the order of characters using string slicing and print\n",
    "the reversed string."
   ]
  },
  {
   "cell_type": "code",
   "execution_count": 5,
   "id": "f79d2570-cf1c-4ff3-83ec-3d1160f54f48",
   "metadata": {},
   "outputs": [
    {
     "name": "stdout",
     "output_type": "stream",
     "text": [
      "ecneicsatad\n"
     ]
    }
   ],
   "source": [
    "s='datascience'[::-1]\n",
    "print(s);"
   ]
  },
  {
   "cell_type": "code",
   "execution_count": null,
   "id": "b841399b-a512-4e7f-bfdf-ed18841496d4",
   "metadata": {},
   "outputs": [],
   "source": [
    "#4. Write a program that takes a string as input and checks if it is a palindrome\n",
    "(reads the same forwards and backwards)."
   ]
  },
  {
   "cell_type": "code",
   "execution_count": 8,
   "id": "434341b2-c75a-4191-a029-a5d2eef24b97",
   "metadata": {},
   "outputs": [
    {
     "name": "stdout",
     "output_type": "stream",
     "text": [
      "palindrome\n"
     ]
    }
   ],
   "source": [
    "s='malayalam'\n",
    "if(s==s[::-1]):\n",
    "    print(\"palindrome\")\n",
    "else:\n",
    "    print(\"not palindrome\");"
   ]
  },
  {
   "cell_type": "code",
   "execution_count": null,
   "id": "f27827a4-27df-4c29-a833-943e3c617d5a",
   "metadata": {},
   "outputs": [],
   "source": [
    "#5. Create a program that takes a string as input and removes all the spaces from\n",
    "it. Print the modified string without spaces."
   ]
  },
  {
   "cell_type": "code",
   "execution_count": 11,
   "id": "4633685d-ccce-43c4-88e2-d476a7723fd4",
   "metadata": {},
   "outputs": [
    {
     "name": "stdout",
     "output_type": "stream",
     "text": [
      "iamkishore\n"
     ]
    }
   ],
   "source": [
    "s='i am kishore'\n",
    "def remove(s):\n",
    "    return s.replace(\" \",\"\")\n",
    "print(remove(s));"
   ]
  }
 ],
 "metadata": {
  "kernelspec": {
   "display_name": "Python 3 (ipykernel)",
   "language": "python",
   "name": "python3"
  },
  "language_info": {
   "codemirror_mode": {
    "name": "ipython",
    "version": 3
   },
   "file_extension": ".py",
   "mimetype": "text/x-python",
   "name": "python",
   "nbconvert_exporter": "python",
   "pygments_lexer": "ipython3",
   "version": "3.10.8"
  }
 },
 "nbformat": 4,
 "nbformat_minor": 5
}
